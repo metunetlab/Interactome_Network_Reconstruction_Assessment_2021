{
 "cells": [
  {
   "cell_type": "code",
   "execution_count": 4,
   "id": "concerned-wells",
   "metadata": {},
   "outputs": [],
   "source": [
    "import numpy as np\n",
    "import pandas as pd\n",
    "import networkx as nx,gc\n",
    "\n",
    "from PCSF import PCSF as pcsf"
   ]
  },
  {
   "cell_type": "markdown",
   "id": "assigned-honolulu",
   "metadata": {},
   "source": [
    "Versions\n",
    "\n",
    "OmicsIntegrator --> 2.3.10\n",
    "\n",
    "pandas --> 1.1.5\n",
    "\n",
    "networkx --> 2.5\n",
    "\n",
    "numpy --> 1.19.5\n"
   ]
  },
  {
   "cell_type": "code",
   "execution_count": 5,
   "id": "racial-distance",
   "metadata": {},
   "outputs": [],
   "source": [
    "interactome_file='../Interactomes/OmniPath.oi2'\n",
    "\n",
    "\n",
    "oi2=pcsf(interactome_file)"
   ]
  },
  {
   "cell_type": "code",
   "execution_count": 6,
   "id": "understanding-leadership",
   "metadata": {},
   "outputs": [],
   "source": [
    "prize_file='../Sample/Notch/Notch_chunk1_prize.tsv'\n",
    "parameter_file='OmniPath.parameters'"
   ]
  },
  {
   "cell_type": "code",
   "execution_count": 7,
   "id": "public-thomas",
   "metadata": {},
   "outputs": [],
   "source": [
    "output_name=\"Case_Study_Notch_pathway\""
   ]
  },
  {
   "cell_type": "code",
   "execution_count": 9,
   "id": "flush-rental",
   "metadata": {},
   "outputs": [
    {
     "name": "stderr",
     "output_type": "stream",
     "text": [
      "04:31:07 - OI2: INFO - Duplicated gene symbols in the prize file (we'll keep the max prize):\n",
      "04:31:07 - OI2: INFO - []\n",
      "04:31:07 - OI2: INFO - Members of the prize file not present in the interactome:\n",
      "04:31:07 - OI2: INFO - ['P43355', 'P78537', 'Q9GZL7']\n"
     ]
    }
   ],
   "source": [
    "oi2.write_augmented_networks_intersection(generated_network_name=output_name,\n",
    "                                          prize_file=prize_file,\n",
    "                                          parameter_file=parameter_file)"
   ]
  },
  {
   "cell_type": "code",
   "execution_count": null,
   "id": "fresh-israeli",
   "metadata": {},
   "outputs": [],
   "source": []
  }
 ],
 "metadata": {
  "kernelspec": {
   "display_name": "Python 3",
   "language": "python",
   "name": "python3"
  },
  "language_info": {
   "codemirror_mode": {
    "name": "ipython",
    "version": 3
   },
   "file_extension": ".py",
   "mimetype": "text/x-python",
   "name": "python",
   "nbconvert_exporter": "python",
   "pygments_lexer": "ipython3",
   "version": "3.6.12"
  }
 },
 "nbformat": 4,
 "nbformat_minor": 5
}
