{
 "cells": [
  {
   "cell_type": "code",
   "execution_count": 1,
   "id": "unauthorized-white",
   "metadata": {},
   "outputs": [],
   "source": [
    "import os , pandas as pd, networkx as nx, numpy as np\n",
    "from ShortestPath import Shortest_Paths as sp\n",
    "import ROC"
   ]
  },
  {
   "cell_type": "markdown",
   "id": "decreased-repeat",
   "metadata": {},
   "source": [
    "versions\n",
    "\n",
    "pandas --> 1.1.5\n",
    "\n",
    "networkx --> 2.5\n",
    "\n",
    "numpy --> 1.19.5\n",
    "\n"
   ]
  },
  {
   "cell_type": "markdown",
   "id": "geological-calculation",
   "metadata": {},
   "source": [
    "# loading the reference network"
   ]
  },
  {
   "cell_type": "code",
   "execution_count": 2,
   "id": "weighted-missouri",
   "metadata": {},
   "outputs": [],
   "source": [
    "interactome_df=pd.read_csv(f'../../Interactomes/OmniPath_with_UniProt.txt')\n",
    "\n",
    "network=nx.from_pandas_edgelist(interactome_df, \"UniprotID_1\", \"UniprotID_2\",create_using=nx.Graph)\n",
    "\n",
    "shrt_path=sp(network)"
   ]
  },
  {
   "cell_type": "markdown",
   "id": "sitting-beginning",
   "metadata": {},
   "source": [
    "# Initial Nodes"
   ]
  },
  {
   "cell_type": "code",
   "execution_count": 3,
   "id": "guided-vampire",
   "metadata": {},
   "outputs": [],
   "source": [
    "with open (f'../Sample/Notch/chuk1_Notch_initial.nodes',\"r\") as f :\n",
    "    nodes=f.readline().split(\"\\t\")"
   ]
  },
  {
   "cell_type": "markdown",
   "id": "defined-surprise",
   "metadata": {},
   "source": [
    "# Find APSPs"
   ]
  },
  {
   "cell_type": "code",
   "execution_count": 4,
   "id": "bizarre-retailer",
   "metadata": {},
   "outputs": [
    {
     "name": "stdout",
     "output_type": "stream",
     "text": [
      "shortest path ['Q5TA89', 'P46531', 'P49810', 'P05067']\n"
     ]
    }
   ],
   "source": [
    "APSPs=shrt_path.find_shortest_path_among(sources=nodes, targets=nodes)\n",
    "print (\"shortest path\", APSPs[0])"
   ]
  },
  {
   "cell_type": "code",
   "execution_count": 6,
   "id": "contained-touch",
   "metadata": {},
   "outputs": [],
   "source": [
    "Edges_in_APSP=shrt_path.write_shortest_path_edges_among(sources=nodes, targets=nodes, file_name=\"Case_Study_Notch_pathway.apsp\")"
   ]
  },
  {
   "cell_type": "code",
   "execution_count": null,
   "id": "lesser-wireless",
   "metadata": {},
   "outputs": [],
   "source": [
    "\n",
    "\n"
   ]
  }
 ],
 "metadata": {
  "kernelspec": {
   "display_name": "Python 3",
   "language": "python",
   "name": "python3"
  },
  "language_info": {
   "codemirror_mode": {
    "name": "ipython",
    "version": 3
   },
   "file_extension": ".py",
   "mimetype": "text/x-python",
   "name": "python",
   "nbconvert_exporter": "python",
   "pygments_lexer": "ipython3",
   "version": "3.6.12"
  }
 },
 "nbformat": 4,
 "nbformat_minor": 5
}
